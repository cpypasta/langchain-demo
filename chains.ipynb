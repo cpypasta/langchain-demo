{
 "cells": [
  {
   "cell_type": "markdown",
   "metadata": {},
   "source": [
    "# LangChain: A library used to build language model application"
   ]
  },
  {
   "cell_type": "code",
   "execution_count": 142,
   "metadata": {},
   "outputs": [],
   "source": [
    "from dotenv import load_dotenv\n",
    "from enum import Enum\n",
    "from pydantic import BaseModel, Field\n",
    "from langchain.chat_models import ChatOpenAI\n",
    "from langchain.llms.openai import OpenAI\n",
    "from langchain.llms.ollama import Ollama\n",
    "from langchain.llms.huggingface_hub import HuggingFaceHub\n",
    "from langchain.schema import HumanMessage, StrOutputParser, BaseOutputParser\n",
    "from langchain.callbacks.manager import CallbackManager\n",
    "from langchain.callbacks.streaming_stdout import StreamingStdOutCallbackHandler\n",
    "from langchain.prompts import PromptTemplate, FewShotChatMessagePromptTemplate\n",
    "from langchain.prompts.few_shot import FewShotPromptTemplate\n",
    "from langchain.prompts.chat import ChatPromptTemplate, HumanMessagePromptTemplate, SystemMessagePromptTemplate\n",
    "from langchain.prompts.example_selector import SemanticSimilarityExampleSelector\n",
    "from langchain.vectorstores.chroma import Chroma\n",
    "from langchain.embeddings import OpenAIEmbeddings\n",
    "from langchain.output_parsers import (\n",
    "  PydanticOutputParser, \n",
    "  CommaSeparatedListOutputParser,\n",
    "  DatetimeOutputParser,\n",
    "  EnumOutputParser,\n",
    ")"
   ]
  },
  {
   "cell_type": "code",
   "execution_count": 28,
   "metadata": {},
   "outputs": [
    {
     "data": {
      "text/plain": [
       "True"
      ]
     },
     "execution_count": 28,
     "metadata": {},
     "output_type": "execute_result"
    }
   ],
   "source": [
    "load_dotenv()"
   ]
  },
  {
   "cell_type": "markdown",
   "metadata": {},
   "source": [
    "Overall, LangChain consists of a `chain` which contains:\n",
    "1. LLM\n",
    "2. Prompt\n",
    "3. Parser\n",
    "\n",
    "In it's most basic form, with the default parser, you can invoke a LLM using:"
   ]
  },
  {
   "cell_type": "code",
   "execution_count": 12,
   "metadata": {},
   "outputs": [
    {
     "name": "stdout",
     "output_type": "stream",
     "text": [
      "{\n",
      "  \"warning\": \"This model version is deprecated. Migrate before January 4, 2024 to avoid disruption of service. Learn more https://platform.openai.com/docs/deprecations\",\n",
      "  \"id\": \"cmpl-8UcGxfe7lXyRNq6e3JJpbuEHVnWn9\",\n",
      "  \"object\": \"text_completion\",\n",
      "  \"created\": 1702307651,\n",
      "  \"model\": \"text-davinci-003\",\n",
      "  \"choices\": [\n",
      "    {\n",
      "      \"text\": \"\\n\\nI think green is a beautiful and vibrant color. It symbolizes nature, growth, and prosperity, and is a great choice for many color schemes.\",\n",
      "      \"index\": 0,\n",
      "      \"logprobs\": null,\n",
      "      \"finish_reason\": \"stop\"\n",
      "    }\n",
      "  ],\n",
      "  \"usage\": {\n",
      "    \"prompt_tokens\": 9,\n",
      "    \"completion_tokens\": 32,\n",
      "    \"total_tokens\": 41\n",
      "  }\n",
      "}\n",
      "\n",
      "\n",
      "\n",
      "I think green is a beautiful and vibrant color. It symbolizes nature, growth, and prosperity, and is a great choice for many color schemes.\n"
     ]
    }
   ],
   "source": [
    "llm = OpenAI()\n",
    "print(llm(\"What do you think of the color green?\"))"
   ]
  },
  {
   "cell_type": "markdown",
   "metadata": {},
   "source": [
    "## LLM\n",
    "\n",
    "There are two types of language models:\n",
    "* `LLM`: a model that takes a string as input and returns a string\n",
    "* `ChatModel`: a model that takes a list of messages as input and returns a message\n",
    "\n",
    "The basic `LLM` is often referred to as an `Instruct` model, whereas the other is referred to as a `Chat` model. Ultimately, these are both foundational LLM models fine-tuned for instruction and conversations.\n",
    "\n",
    "We already saw the basic usage of a LLM. Here is a simple example of a ChatModel that uses messages, where the `HumanMessage` is passed in and it returns an `AIMessage`. All messages are derived from the `BaseMessage` which has a `role` and `content`:"
   ]
  },
  {
   "cell_type": "code",
   "execution_count": 18,
   "metadata": {},
   "outputs": [
    {
     "name": "stdout",
     "output_type": "stream",
     "text": [
      "{\n",
      "  \"id\": \"chatcmpl-8UcLScfkblk0G97doOy137W1acGYv\",\n",
      "  \"object\": \"chat.completion\",\n",
      "  \"created\": 1702307930,\n",
      "  \"model\": \"gpt-3.5-turbo-0613\",\n",
      "  \"choices\": [\n",
      "    {\n",
      "      \"index\": 0,\n",
      "      \"message\": {\n",
      "        \"role\": \"assistant\",\n",
      "        \"content\": \"There are 365 days in a year, except in a leap year when there are 366 days.\"\n",
      "      },\n",
      "      \"finish_reason\": \"stop\"\n",
      "    }\n",
      "  ],\n",
      "  \"usage\": {\n",
      "    \"prompt_tokens\": 15,\n",
      "    \"completion_tokens\": 21,\n",
      "    \"total_tokens\": 36\n",
      "  },\n",
      "  \"system_fingerprint\": null\n",
      "}\n",
      "\n"
     ]
    },
    {
     "data": {
      "text/plain": [
       "AIMessage(content='There are 365 days in a year, except in a leap year when there are 366 days.')"
      ]
     },
     "execution_count": 18,
     "metadata": {},
     "output_type": "execute_result"
    }
   ],
   "source": [
    "llm = ChatOpenAI()\n",
    "input_message = HumanMessage(content=\"how many days are in a year?\")\n",
    "llm([input_message])"
   ]
  },
  {
   "cell_type": "markdown",
   "metadata": {},
   "source": [
    "We are also not limited to online LLMs. Here is an example using `Ollama` with the `Mistral` LLM running local:"
   ]
  },
  {
   "cell_type": "code",
   "execution_count": 22,
   "metadata": {},
   "outputs": [
    {
     "name": "stdout",
     "output_type": "stream",
     "text": [
      "The first man on the moon was Neil Armstrong.\n"
     ]
    }
   ],
   "source": [
    "llm = Ollama(model=\"mistral\")\n",
    "print(llm(\"The first man on the moon was ...\"))"
   ]
  },
  {
   "cell_type": "markdown",
   "metadata": {},
   "source": [
    "We can also stream the LLM response instead of waiting for the entire text to be generated:"
   ]
  },
  {
   "cell_type": "code",
   "execution_count": 25,
   "metadata": {},
   "outputs": [
    {
     "name": "stdout",
     "output_type": "stream",
     "text": [
      "Elon Musk is an entrepreneur and business magnate, born on June 28, 1971 in South Africa. He is known for his advancements in sustainable technology, space exploration, and electric automobiles. Musk is the founder and CEO of multiple successful companies including Tesla Inc., SpaceX, Neuralink, and The Boring Company. He has also been involved in various other ventures such as SolarCity and Zip2. Musk is widely considered to be one of the most influential figures in the tech industry and has been named one of Time Magazine's 100 most influential people multiple times.\n"
     ]
    }
   ],
   "source": [
    "llm = Ollama(\n",
    "  model=\"mistral\",\n",
    "  callback_manager=CallbackManager([StreamingStdOutCallbackHandler()])\n",
    ")\n",
    "llm(\"Who is Elon Musk?\")\n",
    "print()"
   ]
  },
  {
   "cell_type": "markdown",
   "metadata": {},
   "source": [
    "It is also worth noting, it is easy to use models on HuggingFace models using their `huggingface_hub` library, just make sure your `HUGGINGFACEHUB_API_TOKEN` is setup in the environment. It can also be slow, since you are running on the shared infrastructure:"
   ]
  },
  {
   "cell_type": "code",
   "execution_count": null,
   "metadata": {},
   "outputs": [],
   "source": [
    "llm = HuggingFaceHub(\n",
    "  repo_id=\"google/flan-t5-xl\", \n",
    "  model_kwargs={\"temperature\": 1}\n",
    ")\n",
    "llm(\"translate English to German: Hello, my name is John.\", raw_response=True)"
   ]
  },
  {
   "cell_type": "markdown",
   "metadata": {},
   "source": [
    "## Prompt\n",
    "\n",
    "Prompts are the instructions to the LLM. There are two tools provided by LangChain for prompts:\n",
    "1. `Prompt Templates`: parameterized prompts\n",
    "2. `Example Selectors`: dynamically select examples to include in the prompts\n",
    "\n",
    "Up to this point, the prompts have been simple strings. However, usually the prompts will be more complicated:"
   ]
  },
  {
   "cell_type": "code",
   "execution_count": 37,
   "metadata": {},
   "outputs": [
    {
     "name": "stdout",
     "output_type": "stream",
     "text": [
      "What is a good company that makes cars?\n"
     ]
    }
   ],
   "source": [
    "prompt = PromptTemplate.from_template(\"What is a good company that makes {product}?\")\n",
    "print(prompt.format(product=\"cars\"))"
   ]
  },
  {
   "cell_type": "markdown",
   "metadata": {},
   "source": [
    "The `PromptTemplate` works with basic strings but you can also use the more powerful `ChatPromptTemplate` which works with messages and `Chat` models. The types of possible messages are:\n",
    "\n",
    "1. System\n",
    "2. Human\n",
    "3. AI"
   ]
  },
  {
   "cell_type": "code",
   "execution_count": 54,
   "metadata": {},
   "outputs": [
    {
     "name": "stdout",
     "output_type": "stream",
     "text": [
      "System: You are able to translate from English to German.\n",
      "Human: Hello, my name is John.\n"
     ]
    }
   ],
   "source": [
    "prompt = ChatPromptTemplate.from_messages([\n",
    "  (\"system\", \"You are able to translate from {in_language} to {out_language}.\"),\n",
    "  (\"human\", \"{text}\")\n",
    "])\n",
    "print(prompt.format(in_language=\"English\", out_language=\"German\", text=\"Hello, my name is John.\"))"
   ]
  },
  {
   "cell_type": "markdown",
   "metadata": {},
   "source": [
    "The above is just a shortcut way of using special messages, which can be non-variable messages or message prompt templates:"
   ]
  },
  {
   "cell_type": "code",
   "execution_count": 57,
   "metadata": {},
   "outputs": [
    {
     "name": "stdout",
     "output_type": "stream",
     "text": [
      "System: You are able to translate from English to German.\n",
      "Human: USER:\n",
      "Human: Hello, my name is John.\n"
     ]
    }
   ],
   "source": [
    "prompt = ChatPromptTemplate.from_messages([\n",
    "  SystemMessagePromptTemplate(prompt=PromptTemplate.from_template(\"You are able to translate from {in_language} to {out_language}.\")),\n",
    "  HumanMessage(content=\"USER:\"),\n",
    "  HumanMessagePromptTemplate(prompt=PromptTemplate.from_template(\"{text}\")),\n",
    "])\n",
    "print(prompt.format(in_language=\"English\", out_language=\"German\", text=\"Hello, my name is John.\"))"
   ]
  },
  {
   "cell_type": "markdown",
   "metadata": {},
   "source": [
    "Prompt templates also implement the `Runnable` interface, which is how they can be used with LCEL:"
   ]
  },
  {
   "cell_type": "code",
   "execution_count": 66,
   "metadata": {},
   "outputs": [
    {
     "data": {
      "text/plain": [
       "StringPromptValue(text='My name is John?')"
      ]
     },
     "execution_count": 66,
     "metadata": {},
     "output_type": "execute_result"
    }
   ],
   "source": [
    "prompt = PromptTemplate.from_template(\"My name is {name}?\")\n",
    "prompt.invoke({\"name\": \"John\"})"
   ]
  },
  {
   "cell_type": "code",
   "execution_count": 68,
   "metadata": {},
   "outputs": [
    {
     "data": {
      "text/plain": [
       "ChatPromptValue(messages=[HumanMessage(content='My name is John?')])"
      ]
     },
     "execution_count": 68,
     "metadata": {},
     "output_type": "execute_result"
    }
   ],
   "source": [
    "prompt = ChatPromptTemplate.from_messages([('human', 'My name is {name}?')])\n",
    "prompt.invoke({\"name\": \"John\"})"
   ]
  },
  {
   "cell_type": "markdown",
   "metadata": {},
   "source": [
    "It is also very common to include a few examples within a prompt, referred to as `one-shot` or `few-shot` examples. The most basic way of doing that:"
   ]
  },
  {
   "cell_type": "code",
   "execution_count": 75,
   "metadata": {},
   "outputs": [],
   "source": [
    "examples = [\n",
    "  {\n",
    "    \"question\": \"is the name Brian a cool name?\",\n",
    "    \"answer\": \n",
    "\"\"\"\n",
    "The length of the name Brian is 5 characters.\n",
    "Because the name has an odd length, it is NOT a cool name.\n",
    "\"\"\"\n",
    "  },  \n",
    "  {\n",
    "    \"question\": \"is the name Tami a cool name?\",\n",
    "    \"answer\": \n",
    "\"\"\"\n",
    "The length of the name Tami is 4 characters.\n",
    "Because the name has an even length, it is a cool name.\n",
    "\"\"\"\n",
    "  },  \n",
    "  {\n",
    "    \"question\": \"is the name Jason a cool name?\",\n",
    "    \"answer\": \n",
    "\"\"\"\n",
    "The length of the name Jason is 5 characters.\n",
    "Because the name has an odd length, it is NOT a cool name.\n",
    "\"\"\"\n",
    "  },  \n",
    "  {\n",
    "    \"question\": \"is the name Nick a cool name?\",\n",
    "    \"answer\": \n",
    "\"\"\"\n",
    "The length of the name Nick is 4 characters.\n",
    "Because the name has an even length, it is a cool name.\n",
    "\"\"\"\n",
    "  },\n",
    "]"
   ]
  },
  {
   "cell_type": "code",
   "execution_count": 78,
   "metadata": {},
   "outputs": [
    {
     "name": "stdout",
     "output_type": "stream",
     "text": [
      "Question: is the name Brian a cool name?\n",
      "\n",
      "The length of the name Brian is 5 characters.\n",
      "Because the name has an odd length, it is NOT a cool name.\n",
      "\n"
     ]
    }
   ],
   "source": [
    "example_prompt = PromptTemplate.from_template(\"Question: {question}\\n{answer}\")\n",
    "print(example_prompt.format(**examples[0]))"
   ]
  },
  {
   "cell_type": "code",
   "execution_count": 81,
   "metadata": {},
   "outputs": [
    {
     "name": "stdout",
     "output_type": "stream",
     "text": [
      "Question: is the name Brian a cool name?\n",
      "\n",
      "The length of the name Brian is 5 characters.\n",
      "Because the name has an odd length, it is NOT a cool name.\n",
      "\n",
      "\n",
      "Question: is the name Tami a cool name?\n",
      "\n",
      "The length of the name Tami is 4 characters.\n",
      "Because the name has an even length, it is a cool name.\n",
      "\n",
      "\n",
      "Question: is the name Jason a cool name?\n",
      "\n",
      "The length of the name Jason is 5 characters.\n",
      "Because the name has an odd length, it is NOT a cool name.\n",
      "\n",
      "\n",
      "Question: is the name Nick a cool name?\n",
      "\n",
      "The length of the name Nick is 4 characters.\n",
      "Because the name has an even length, it is a cool name.\n",
      "\n",
      "\n",
      "Question: is the name Jack a cool name?\n"
     ]
    }
   ],
   "source": [
    "prompt = FewShotPromptTemplate(\n",
    "  examples=examples,\n",
    "  example_prompt=example_prompt,\n",
    "  suffix=\"Question: {input}\",\n",
    "  input_variables=[\"input\"]\n",
    ")\n",
    "print(prompt.format(input=\"is the name Jack a cool name?\"))"
   ]
  },
  {
   "cell_type": "markdown",
   "metadata": {},
   "source": [
    "This works fine if you want to include all the examples in every prompt. However, if you want to only select some of the examples, then you need to use an `ExampleSelector`. In this case, we will use the `SemanticSimilarityExampleSelector` which will decide which examples to include based off of similarity of the input and the examples:"
   ]
  },
  {
   "cell_type": "code",
   "execution_count": 86,
   "metadata": {},
   "outputs": [
    {
     "name": "stdout",
     "output_type": "stream",
     "text": [
      "{\n",
      "  \"object\": \"list\",\n",
      "  \"data\": [\n",
      "    {\n",
      "      \"object\": \"embedding\",\n",
      "      \"index\": 0,\n",
      "      \"embedding\": \"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\"\n",
      "    },\n",
      "    {\n",
      "      \"object\": \"embedding\",\n",
      "      \"index\": 1,\n",
      "      \"embedding\": \"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\"\n",
      "    },\n",
      "    {\n",
      "      \"object\": \"embedding\",\n",
      "      \"index\": 2,\n",
      "      \"embedding\": \"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\"\n",
      "    },\n",
      "    {\n",
      "      \"object\": \"embedding\",\n",
      "      \"index\": 3,\n",
      "      \"embedding\": \"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\"\n",
      "    }\n",
      "  ],\n",
      "  \"model\": \"text-embedding-ada-002-v2\",\n",
      "  \"usage\": {\n",
      "    \"prompt_tokens\": 140,\n",
      "    \"total_tokens\": 140\n",
      "  }\n",
      "}\n",
      "\n"
     ]
    }
   ],
   "source": [
    "example_selector = SemanticSimilarityExampleSelector.from_examples(\n",
    "  examples, # examples to  select from\n",
    "  OpenAIEmbeddings(), # used to create the embeddings\n",
    "  Chroma, # VectorStore class\n",
    "  k=1 # number of examples to produce; one-shot in this case\n",
    ")"
   ]
  },
  {
   "cell_type": "markdown",
   "metadata": {},
   "source": [
    "Now we can select the examples based off a new question:"
   ]
  },
  {
   "cell_type": "code",
   "execution_count": 87,
   "metadata": {},
   "outputs": [
    {
     "name": "stdout",
     "output_type": "stream",
     "text": [
      "{\n",
      "  \"object\": \"list\",\n",
      "  \"data\": [\n",
      "    {\n",
      "      \"object\": \"embedding\",\n",
      "      \"index\": 0,\n",
      "      \"embedding\": \"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\"\n",
      "    }\n",
      "  ],\n",
      "  \"model\": \"text-embedding-ada-002-v2\",\n",
      "  \"usage\": {\n",
      "    \"prompt_tokens\": 8,\n",
      "    \"total_tokens\": 8\n",
      "  }\n",
      "}\n",
      "\n"
     ]
    },
    {
     "data": {
      "text/plain": [
       "[{'answer': '\\nThe length of the name Nick is 4 characters.\\nBecause the name has an even length, it is a cool name.\\n',\n",
       "  'question': 'is the name Nick a cool name?'}]"
      ]
     },
     "execution_count": 87,
     "metadata": {},
     "output_type": "execute_result"
    }
   ],
   "source": [
    "question = \"is the name Jack a cool name?\"\n",
    "example_selector.select_examples({\"question\": question})"
   ]
  },
  {
   "cell_type": "markdown",
   "metadata": {},
   "source": [
    "Using the example selector we can now define a `FewShotPromptTemplate` without passing in all the examples:"
   ]
  },
  {
   "cell_type": "code",
   "execution_count": 88,
   "metadata": {},
   "outputs": [
    {
     "name": "stdout",
     "output_type": "stream",
     "text": [
      "{\n",
      "  \"object\": \"list\",\n",
      "  \"data\": [\n",
      "    {\n",
      "      \"object\": \"embedding\",\n",
      "      \"index\": 0,\n",
      "      \"embedding\": \"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\"\n",
      "    }\n",
      "  ],\n",
      "  \"model\": \"text-embedding-ada-002-v2\",\n",
      "  \"usage\": {\n",
      "    \"prompt_tokens\": 6,\n",
      "    \"total_tokens\": 6\n",
      "  }\n",
      "}\n",
      "\n",
      "Question: is the name Brian a cool name?\n",
      "\n",
      "The length of the name Brian is 5 characters.\n",
      "Because the name has an odd length, it is NOT a cool name.\n",
      "\n",
      "\n",
      "Question: Is Brian a cool name?\n"
     ]
    }
   ],
   "source": [
    "prompt = FewShotPromptTemplate(\n",
    "  example_selector=example_selector,\n",
    "  example_prompt=example_prompt,\n",
    "  suffix=\"Question: {input}\",\n",
    "  input_variables=[\"input\"]\n",
    ")\n",
    "\n",
    "print(prompt.format(input=\"Is Brian a cool name?\"))"
   ]
  },
  {
   "cell_type": "markdown",
   "metadata": {},
   "source": [
    "Now that we have the prompt template defined, let's use it with a LLM:"
   ]
  },
  {
   "cell_type": "code",
   "execution_count": 93,
   "metadata": {},
   "outputs": [
    {
     "name": "stdout",
     "output_type": "stream",
     "text": [
      "{\n",
      "  \"object\": \"list\",\n",
      "  \"data\": [\n",
      "    {\n",
      "      \"object\": \"embedding\",\n",
      "      \"index\": 0,\n",
      "      \"embedding\": \"g8VMuxtjNbzwnQQ9yOajvJirUrxPbvU8IIZjuxXmn7yDGIy5BHZUvFfyGLxTinu8QF/sOyawnzzbvnO816Igu9Tn9jwg4Eo8KL5vPP9Sprwbat28HBcEPfd79jpu5m68i/1Yu8uoQrubuYg8clU0uxJ+NTzrJ+S8xzKIPIv92DrlUJq7QbnTvMMWAr3dckI7HctsvItQGLyzWoU8cKFlPH5P3zxIkNC8uCr0u3NcjzvNtsW80BeIu7VoiLtWRaW8ffV3vKezszzh4dQ8zVyRPMTKHTzmqgG9HXG4vNxrGjvBvGe5BHbUu/mC0TvIk2Q86GXFPEz/FTzThme8opAFPSgRrzs51Aa8lvCOurDyGry3I8y6gLAhPBsQqTwhjb48KBEvO9j8h7tf12W7vUatPH+pRrtEe3I7VIquu3OvGzyZqwU9S6WuvEtS77uqGx462rAjPBF3WruSgcm7VpgxPNElWL1k+ka8h4eeOwyukzxqyps8SD3Eu00N5rz9S8s8sPJnuZu5CDsCFUU6y06OPHMCKDseJYc6nceLui003btWRSW7mgxiPAJv+buYUZ6845xLPaSeCLug3La8ah0oPcG8Zzx52fG8kXruOzyWJbrXoqA6QxoWvA0IyLyNXps54++KPA/DPruOEjc7Y5m3vO6PzjyCa2U8H3+7vPCd0bwJRna8fO5PvBLYaT1f1xg8bYWSPDYZEDwyqkq9GFWyPDuPyjt0CQO7VDeivP1Eo7pBDBM8pw0bPQflZrweJQc83R+2Ov+sWjxiP1A8QLIrPNsRMzyqG568xHdevFDIXDuNXhs9AruQPELArrqCa+U8nnsnvKKQhTtEe3I8ah0oPCAz1zuoug68TKzWPLJTKr2U4os7jP0LPYWAwzwVk+C6aA8lu/1LSzxDbaI89m0mO5bwDr0YVX88AWEpu62DCDxhizQ8L0ITPPBKRTwdy5+73R+2uyp5ZjlDbaI7IpSZPJPb/bzL+4E7db3rPN7TUbxRz7e6+M61Okc26TsQHXM8kHPGO6t8+ra/ASS/2PxUOtzFzjvfLbm8wx2qPM4QejzF0cU8j2yeOx3Ln7vW7oQ8uYTbu66R2Dk2c8S82E8UPEUombz3dAG9zK/qOpQ1mDyBCgm85PayvIg7Orw/q4M85rH2O/W5irw0uM05bjkuPEbVDDsyUBa9WmErvErxEryBEX68CT+BPPW5ijws04C8d8shPV99sbvWQRG8/PHjPB8sfLx52XE8gxgMvWvRw7sW9G+8N82rvEysiTxNBr48b0AJPGt+NzyY/pG7Kh9/u7rewjy0Ya28BNA7vHBH/rvS0su8Wa0PvH5P3zslqUS8FDksvOPvVzsjSLW8MlAWPOt6o7yggoK8U4p7vPd0AT0KoN284NosvCHn8jt4f728ejMMO4FkPbvZA328wbxnPNIsMzsS2Gk81u4EPTMEMryF0wK8/JevPONCF7w76TE7ZVQuPLnXmrt4eBU9tyNMvHOvm7y6MYK8jhI3PKgUw7xefX67SktHOycKhzrmV8K8TrqMOl4jyjxHiai84pUjvCSinDz3dIG83tNRPGT6xrugL8O6qsgRvBOFELzzX3A7GFUyPBBwMj3zWMg8XiNKOYXTAryeKOi85rGpu6t8erwS2Gm7qRvrvOe40TwPaYo8V58MPdeiIL12cTo74/b/OzW/qDt99fe83tNRPO7ijTvk9jI6ie+IvHd44rz6iay6TxTBPKluKjwHi7I8BjFLvEmXqzz2Gpo5sq3ePAUqo7vPauE7JwoHvWDeQLzPF1U85PYyuxPYHDs3IDi8aGnZvO9D6julpbA7Y5m3vBmvGbw+pPU79hpnPBZHL7x99fc75f2NvG6MurxGgoC8bNgevV99sbtcFUe8GKg+vIxXwDx1apK8Lju4u8C1P7tkoJK6j7+qvFKDUzrNCVI8Ozy+vKdg9DvjnMu8S1Kiu/uQh7zpbKC74/b/PFIpbLr+UnO85qqBPNSNwrsZr5k8/fGWvPDwELwg4Mo7L+/TPDnUBrykngg993t2PZdKQ7ysKSE9QLKru1SR1rs+pPW8fk+SOxtq3Turz7m8GgnOPApN0bqWQ5s8zQnSPN0ftjsdcTg8Mv2JPA/DvrxFeyU7rNbhu8/ESDtMrIm8/1lOvK7klzxzrxs7asobPGSgkjzPF9W7gmvlPH8DrjxovBi6OYjvuznUBrz3xw08L+/TPOPviryZsno8OoiiPH6inrxCE7s8vJIRPfvjk7xt38a75wvevLoxgrwFfS88bCsrvEMa4zvV5yk8sEUnPDgn4LoujsS8XRwiPe2IJrz0uVe7u+XqPM4QLTyqdYW6TQ3mPBAdprxAX2w8Y0arO+i4BLzAWws8Y/PrvJhRHrx9SLe8RYLNuVEixDz3IUI7oIn3O0NtIrvZA7A8MVDjPMBbWLt+TxK8z2oUPJSPTLwpGAo9EiupOzZsHDy1uxQ8+ty4OpInFby40D87RtWMu/s9SLr5L8U8+S9FO6dg9LtwR347MwQyvKHjkTs+URw87YimOkPHCb1bu5I8HXG4PDh6H7x+T9+89cB/vBioPrwaXA27AQ5qPIPFzDwnClQ8ZKCSu/jV3TsCaIS71kGRu/Gk+TwE0Lu8T8G0u9BxvLvEd5E8oj1GPKKXLb3yUaC7Zw/yPKzWlDocF4Q8eH89vEjjj7yxTE86PZ2AuznUBrzKTlu8t3aLvDH91reReiG8mVjGvHjSybw3xgM9EtjpvOdenbx6jUA8/Oo7vbVoiDz5L8U9sPJnvMpHszsj7gA9qRtruyt5GbuH4dK7N82rvMCuFzxjmbe86WyguotQmLoKoN04J12TPD7+3Dq3yZc8S1LvO9eiILx4JYm81ecpvRdOV7yzWtI8lvDbO4Jr5TwL+kQ7/Z7XPJ0hwDx/qUY8JfxQvEmXq7w8liW6USJEO+ogPDy+TYi8P/6PvLoxgjyCa2W5f/yFPABaAbv6Nu28AruQPK3dvLtbu187yUALvOt6ozu5Kic4iOj6uz/+jzy1uxQ8W7tfvMYrrTzBvOe78J3RvE66jDuS1FW8m2ZJO0LAe7wwSbu7V5+MvPnVEDvaCgu7FUDUuxf0orp4eJW8fwOuu88XVb2H4YU8w8PCvDviibwPaYo77NQKPH5P37ykpf28FeYfvE1gJTvt4lo8sVN3PAMcILs64tY7rNbhurZvsDyZq4W8VpgxvPS517z41V282xGzO0c26Tz5gtG7IDOKuyCGYzsPFss8s62Ru0nx3zuCa5i7NWxpvJxt8TvT2SY8EB1zu9AXiLtatDe8EcoZvNipSDxbDh+7f1Y6PD7+3LtKngY8MfYuO2lwND1ABbi6yZq/u5j+kTznC168lZb0O2skgzt64Mw7ktQIPUEMk7xNBr48XcmVvCrMpbwcxES8m7nVvPDwkDpwR7E7/lLzuhkCpjwLTQS8IpQZu2t+t7zV5yk7opCFvJu51btx+8y8aXA0vWGLtLzi6K+86LgEu0g9RDtF1Vk7C6e4upxtcbzdH7a7z70gPLoxAjwQcLK8xCTSvA21uztSKew7k9swPCUDeTyH4VK9aBbNO7vl6jqnuls7sPIavAqgXbyFgEM8YISMPFef2Tsbat083XLCPO3bsrsnCgc8tA7uu8g5MLt2FwY8GxCpvD+rA7skoum8ITqyu7s/0jvPF1W7OCdgvDqIIjwmsB+8F/SiuqT4PDzpv6y8hMx0u0EME70LTYQ6zK/qOsIWz7zujwE8l52CPEz/Fb2H4dI8yOYjPAfePjsbat2816KgPCGNvjstNN06G2M1PLrewjyoZ4K8FZOTuwnsQTxrfre8lDWYunYeezymBsA8XyqlvGE4dTxNs/475rGpPIz9C71Xn9k8BoSKugwBoLunYKe8lkObup4oaLz7kAe9lkMbOxEkzry6MYK8ednxu4tQGLtYprQ710g5vJWWdDtNs/67ESSBPLvl6jyj8RQ6a9FDO1dMzbx1vWu87NSKvCPugLxhktw8mFEePQEOajwlT5C8Zq6VPIIRMTvYT5S6EiupvC6ORDvmqoE8WlqDPH5PkrwIP048xSQFvEUomTz4zrU8TmdNvMuhGr2nszO8tbuUud0ftrtj82u8f/yFPIc0kjw8Q+Y7Kh+yOzs8vrwx/VY8rz5MPHRjN7xaWoM89hoavGwrK7yNXug722S/PIg7ujtqHag84IegOoPFzDyS1FW8G2pdPDRlwTtAsqu8sgAevNOGmronZDu8a9HDvNj81Lzqc0g7++MTPfL+YLzL+4G8db1rPCvTzbzmqgE8eCXWOv2eV7wtNBC88aT5vPyXfLr2Gpq7l50CPdTggbz/WU48hMwnvMG85zvF2O07Svg6vAyukzzlqs67Xn1+PMwCqrvzq4c8g8VMPMBb2LwZr+Y8OYjvO9LSS7y5hA48wx13u2hp2TwIP048l52CvFphqzzUM448/1nOPDbGULwiQVq8fk/fPMBb2LxYAGk6b0BWvI6/dzyY/pG6UoPTvLW7FDyVlnQ8Rtw0vRsQdryxnw68ezq0PCi+77oqH388L5UfvGkWgLtmrpW8EispPSawHzvj9v87db3rOWSgkjxFgs27BCNIPHh/vTpMWUq96GztO1q0N7xaYXi9hMwnvPchwjyhNp484TSUPFgAabwcxMS85rEpPKHjXrwRJIG7xdjtvAsBbTz4zrU8BHbUuh1xuLvReJe7TKyJPHJVtDt/qca8b+3JOjOxcjs4J5M86GXFPGI/g7tpaYy8vwFxPA9pijtAX2y6LNOAOyi+7zx4eJW8U4r7vC00XbxmW1a74++KPDVs6TtDdEq8ktQIvRu9HLzVlB28KswlPD1Kwbws04A85PayPEV7pTwjQY07jr93vPyXr7zh4VS7UilsPBb0bzvpGZQ8yvSmO7w/BTzXou07V59ZvEnxX7wjm8E8PEOZuh54k7vmBDY7/qUyvTYZkLulUqS84TQUPWnDwLyS1Ii8HcvsO9BxvLpQyNy62rAjPPqJLDxwR7G8m2ZJPBZAh7lk85472QOwvCHn8rtatLc8tA5uvMcyCD2H4YU8kHNGO+aqgbwRypk7wryaPKe6Wz0Cb/k75FBnPgR2Bz3AW9i7RdXZPAQjSLncGA68LNr1O9buhLuVPEC7ZlsJPBhV/7kpGNc8tWjVvNdIOTwvlR88xoWUvPL+k7xS1pK8YTh1vI9sHrx3yyG8OjUWvB3Ln7z7kAc7ezq0PBHRwTwRJAG8ZVSuPHMJUDwLpzg8WADpuylrlrzh4Yc88qvUvFEixLlJ8d+81OABPFlaULv5ggS7xiutPKcNG7vReJe81pvFvPmCBL2l/xe7rjekO2wrK7thkty645zLvORJvzw2GZC8YZLcvEMa4zyTNeU8cU4MPF59/rsNYvy73tPRuye3xzs2xlA8tbuUPAfl5jxk+sa5oImqPFBuKLtgMQA9PENmvPMFPDs0C9o7yJNkvB4lB7xJlyu99hpnOmYBIrz4eym8RHtyvPfHjTxDGhY9CqAQO41eaDzZXeS80MtwPBMy0bpv7ck7Ga/mvDmIb7xiP4O6JfwDvInvVbpLUqK8NhkQPBMyUTtZrQ+8QbnTuurGBzz4KJ07RzbpPHBH/jxOZ827zhD6O4fhUrzy/pO86LiEPFLWEj1ffbG8E9icuhbtx7taYXg8Zac6PPjVXbwY+8o7mP4RvP2e1zw41FO7AWGpPER7cjzsLj+8iUJivM4Q+jtTMEe8UoPTPDD2+7xpw8C72QN9PBbtxzt0CQO9bYUSvdj8h7t6Mww8FDl5vCSiaTx9m0O845xLPZ57p7zYqci8WKY0vA1i/LjIk+S8/Z5XPNTggbzArhe8zQkFuiT1KDy3I0y8EzJRO4QfNL3h4Yc84eEHu26Murpvk5W7YTj1vEG5hryF04K7G70cPGCEjLvV5yk8oIKCvO7ijbxhkty8IY2+PFfymLy/AfE86ycXPMpO27wmA6y8xzn9vHnZJL5FeyU9X32xPLySkbz7kNS6slOqOhtq3TxHiSg8cqjAu/jONTypG+s8FvRvO4YtN7wGi3+8Ga8ZvFEiRDj9noq8BzgmuSPuAD1K+Lo8QF/sOrnXmrw+URw9EcqZPAsBbbwFKnA8Eiupu22Fkjwg4Mq7vOxFPOKVo7s8Q2a8rNYUPBF3WjwJPwE8PENmPIjoLTxODZk8MwQyvLVoVT0tNF08zhB6PNF4lzzmsfa7MVDjuwBaATukS8k8w3A2POPvCj00uM28L5VsPCkYV7zca5q7MEk7u4JrGDxt38a7xdHFO0ITOzxVPko84DThuwaL/7xXTAC934DFugC0tbxXTM28dnG6vGzYnrzKTlu893TOvNZBETxatDc8OS47PHW9azz88WM5Mf3WPIjo+jqKo3G8qRvru6NEobzezCk8rz7MOjqIIj0lVri8TKwJPTxD5jvcGFs8S1Jvu1mtj7w5Lru7mFHrO3bExjstNBC9MEm7vHqGGLtdHKI8HGqQPNlWvDyF04I8za8dvL9UsLyikIW5jV6bu8MWgrgw7wa7eCUJPP2eijygifc8Mf3WPGRNhjxPFME7Lo5EvDDvhjyhkNI8ktRVPT6kKL1+/NI8b5OVu38DLrzW7oS8mbL6OVIpbD2vmLM6kBkSvNOGGjsdy5+7/PFjvEPH1r3UjUK7JPUoPBOFkDz/rNq7tLQ5Pc2vnTsth5w8lOILvDVs6TxQGxy7gRH+u5lYxrvJmj88z2qUuoc0krsRJIG7XMI6vXGhmLw6iKI8NAsNvAR2B7wUOfm8AAdCvFzCOr2LUBg7XBxvvGE4dTzmqgE6p7rbu1f5QLu+TQi9r5GLu+7ijbzVQV69ejNZupBzxryw8ho8+CgdPKDctrwEI0g88wU8vK6RWDwOade8BSrwOj3wDLxG1Qy7RSgZPRdO1zyOv3e7z8RIO/H3OLzi6K+8BSrwvAUq8DwCwri8tA5uPFDI3DtNDWa8AWEpuzGjojoffzs7wx0quuE0FLx1veu5mgxiPL9UMLztiKa8iOitPD73NLxrK/i86GztO0ITu7xMrIk7NyC4vGVUe7yT2/27p7OzO46/dzqtg4i79F8ju2Pza7xefX68Ljs4vfXAsrvh4VQ81OCBPE66jDybZkk8Fu3HvJQ1GDvezCk84+8KPDW/qDxIPUQ7V/nAOwmZtTyVlvS6uNC/PL2gYTz7kIc8xtggvWZbCb12Hns7yvQmvNf1LLwv71O8SJADvfmCUby5hNu7C02Eu8r0Jjw2c0S8zbbFPDh6H7xaYas7EXdavENtorx9m0M84DRhPOcL3jwk9Sg8db3rvAxUrDxM/xU8mbJ6u7Na0rxdyZU8TP8VvewuP7xaWgO7nMCwvD73ND2H4QW9gbfJOu6PAT3h4Qc8QxqWvAk/gTrNr508UBucOvGk+buJQmK83GsavcR3EbyL/Vi8f1a6PMYyVbvhNBS8HcvsuiYDrDsreZm8qnXSPFwc7zv/rNq85KMmvQfePry4KnS7I0g1PFmtDzwu4YM8VIouPOcLET3U4M47NWzpPJ/Vjry++sg8pEtJvBVA1Lvy/hM8+CidPMYy1bwcFwS9w3C2u6+RCzxVkYk8YYu0O+vNL7v98Ra5QAW4u6Sl/bwcF4Q8VZGJPI8ZXzv++D69/UQjPNTgAT2mBsC7Ri/BvNbuhDyl/2Q8wFsLPJqyrTq2b3286ycXvdpdlzwvley7rNYUvD5RHL18lJu8mP4Ru9j8Bz2DcsC4H3+7vKe6WzykS8m86iA8Oe+WqTzWQRG9LTTdu9sRM7vThuc8J12TPA4PI7wG15Y7I5vBPBbtx7wdy+y7LYccvdVB3rnzX/A5hHkbPPMFvLu5hFu6yvTzPOhsbbyukdg8wx2qvJpfoTzWQRE8+YKEPAbXFrztiPM8BCNIvIJrmLzhNBQ7NWzpusBb2LyfKBs9c1xcPJj+Eb20Dm49FDksPGSgEryYpCo81Of2Oy/oKz2tN/E7mP4RvNPZpryv67+6k9v9Oqp1hbxPwTQ839OEutqwo7zvQ2q7jgsPO6RLSTw2bBw8kBmSvGNGq7tBuVO7LYecPPL+4DvkST+74pXwO2auFT0nCge9A8lgvM4QLbxIkAO6tbsUvJlYxrx2xMY73BhbOxhVsrk7j0o5vUYtvOE0FL0y/Qk9nRoYPAV9r7qYq9K8BzgmvcCuFz0H3j68v1Qwuw1bBzvT2Sa9\"\n",
      "    }\n",
      "  ],\n",
      "  \"model\": \"text-embedding-ada-002-v2\",\n",
      "  \"usage\": {\n",
      "    \"prompt_tokens\": 8,\n",
      "    \"total_tokens\": 8\n",
      "  }\n",
      "}\n",
      "\n"
     ]
    },
    {
     "data": {
      "text/plain": [
       "'\\nThe name Nick has a length of 4 characters, which makes it an even-length name. Therefore, according to the given criteria, the name Nick is considered cool. However, it\\'s important to note that what constitutes a \"cool\" name can be subjective and may vary from person to person.'"
      ]
     },
     "execution_count": 93,
     "metadata": {},
     "output_type": "execute_result"
    }
   ],
   "source": [
    "llm = Ollama(model=\"mistral\")\n",
    "chain = prompt | llm\n",
    "chain.invoke({\"input\": \"is the name Nick a cool name?\"})"
   ]
  },
  {
   "cell_type": "markdown",
   "metadata": {},
   "source": [
    "Using examples with a `Chat` is slightly different but not too much.\n",
    "\n",
    "Here is the simplest example, where `FewShotChatMessagePromptTemplate` is included in every message. This example will also demonstrate that the example few shot prompt template doesn't need to include the `input` suffix, but can be included within another prompt template:"
   ]
  },
  {
   "cell_type": "code",
   "execution_count": 95,
   "metadata": {},
   "outputs": [],
   "source": [
    "examples = [\n",
    "  {\"input\": \"2+2\", \"output\": \"4\"},\n",
    "  {\"input\": \"2+3\", \"output\": \"5\"}\n",
    "]"
   ]
  },
  {
   "cell_type": "code",
   "execution_count": 97,
   "metadata": {},
   "outputs": [
    {
     "name": "stdout",
     "output_type": "stream",
     "text": [
      "Human: 2+2\n",
      "AI: 4\n",
      "Human: 2+3\n",
      "AI: 5\n"
     ]
    }
   ],
   "source": [
    "example_prompt = ChatPromptTemplate.from_messages([\n",
    "  (\"human\", \"{input}\"),\n",
    "  (\"ai\", \"{output}\")\n",
    "])\n",
    "few_shot_prompt = FewShotChatMessagePromptTemplate(\n",
    "  example_prompt=example_prompt,\n",
    "  examples=examples\n",
    ")\n",
    "print(few_shot_prompt.format())"
   ]
  },
  {
   "cell_type": "code",
   "execution_count": 100,
   "metadata": {},
   "outputs": [
    {
     "name": "stdout",
     "output_type": "stream",
     "text": [
      "System: You are a wizard of math.\n",
      "Human: 2+2\n",
      "AI: 4\n",
      "Human: 2+3\n",
      "AI: 5\n",
      "Human: 5+2\n"
     ]
    }
   ],
   "source": [
    "chat_prompt = ChatPromptTemplate.from_messages([\n",
    "  (\"system\", \"You are a wizard of math.\"),\n",
    "  few_shot_prompt,\n",
    "  (\"human\", \"{input}\")\n",
    "])\n",
    "print(chat_prompt.format(input=\"5+2\"))"
   ]
  },
  {
   "cell_type": "markdown",
   "metadata": {},
   "source": [
    "Now we will look at dynamic examples, which is something we've already seen. However, I will also show working with a `VectorStore` to create an examples selector using mixed examples as would be seen in a chat history:"
   ]
  },
  {
   "cell_type": "code",
   "execution_count": 108,
   "metadata": {},
   "outputs": [
    {
     "name": "stdout",
     "output_type": "stream",
     "text": [
      "['2+2 4', '2+3 5', '2+4 6', 'Who are you? My name is Mistral.', 'Hello Hello, my name is Mistral.']\n"
     ]
    }
   ],
   "source": [
    "examples = [\n",
    "    {\"input\": \"2+2\", \"output\": \"4\"},\n",
    "    {\"input\": \"2+3\", \"output\": \"5\"},\n",
    "    {\"input\": \"2+4\", \"output\": \"6\"},\n",
    "    {\"input\": \"Who are you?\", \"output\": \"My name is Mistral.\"},\n",
    "    {\"input\": \"Hello\", \"output\": \"Hello, my name is Mistral.\"}\n",
    "]\n",
    "to_vectorize = [\" \".join(e.values()) for e in examples]\n",
    "print(to_vectorize)"
   ]
  },
  {
   "cell_type": "code",
   "execution_count": 109,
   "metadata": {},
   "outputs": [
    {
     "name": "stdout",
     "output_type": "stream",
     "text": [
      "{\n",
      "  \"object\": \"list\",\n",
      "  \"data\": [\n",
      "    {\n",
      "      \"object\": \"embedding\",\n",
      "      \"index\": 0,\n",
      "      \"embedding\": \"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\"\n",
      "    },\n",
      "    {\n",
      "      \"object\": \"embedding\",\n",
      "      \"index\": 1,\n",
      "      \"embedding\": \"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\"\n",
      "    },\n",
      "    {\n",
      "      \"object\": \"embedding\",\n",
      "      \"index\": 2,\n",
      "      \"embedding\": \"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\"\n",
      "    },\n",
      "    {\n",
      "      \"object\": \"embedding\",\n",
      "      \"index\": 3,\n",
      "      \"embedding\": \"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\"\n",
      "    },\n",
      "    {\n",
      "      \"object\": \"embedding\",\n",
      "      \"index\": 4,\n",
      "      \"embedding\": \"tj1+vPwR57tWopO8D20OvW5GQDs+KRk9N5S5O7QaKbuzTTi7zJMjvIFYaDyuuzM7LtyEvM62eLzU6ru6EZubvO0l7zzEkm877ZkgPNCOIbwFn2m7tOS+OA2gnTw3M527Oi4bvANx3LwyzEo8Pb1Eu6sh0jw+HuG8/lKJPI/jQ7qV4Rw8GccBveVCiLw2nBa9JrCePP/pj7zwXjQ6N79rvE7XyTzlmGy8GfKzOy2b4rw1Ziy8xGe9PP5SCTzCObC8gJYvO8HN2zyFidA8qsC1vLK2MbwNlWW8iMKVvCk/SDyukAE8RFIkOyEeGjvxlB687I7oO1NpzjvHy7S7sVWVvKL167q72jo8YV0jO5eujbuUSpa8qVRhPIlZHDx308K6NtIAPCR32btWzUU8He0xPMI5MLv+s6U7He2xuzr4sLukNo48vgjIvIWJ0Lqiyrk8OoT/PAfN9jtCJJe7EC/HOlWX27xAIby85Nazu2KAeDwkgpG7OWGqPIDBYbxOdq26QY2QuwgOmTzEMdM8+leLu4EtNryb1D28bRDWu/D9l7uBWOi87jAnuwDX+jqLUT+8UM/sPKdcPjq0uYy7WvN1PBdjCjsFExu97SXvu+bZjruAlq88I+sKPLl2w7nZUQ68D20OPNcYyTwZvMk5XQGJvH3RmzycQBI8Hk7OvCRMp7xcy547eMvlO19aSDwJbzW86mBbvDBzi7y1pne8jap+PDVmrLyIwpU8iVmcO4smjTyI7Ue8ieVqPITHFzzgPNK7SHhUvI2qfjx/NRO8JIKRvLGARzxD5s+7sIikuxFlMbxP4oE7Q1qBOn//KLoT9No8SnuvvPyFGDv9u4K8wEGNujQFkLpXZEy8Jno0PG5GwLw3v2u6LtwEPSkUFjvLxrK8bnwqu9lGVjxvshS7DizsO2gdNb36uCc82K9Pu3sEKzwK2wk7mDpcPMXTkbyhXmW8mEUUvaDHXjxi9Cm7Lz2hu6XNFDsqSoA8Hk7Ouqa6/ztChTM8tLmMvCDddzxP4gE9HYyVPMovLDoI2C6/t6nSvFjQoDnh01g8P18DO6qVgzy+E4A87SXvPDwmvjt/NZM86T2GvOVCCD2xSt28uaytO/pXizpigPi8k32lvM0fcrz7emA7/t5XvA4Burw2nJY8B812vIwT+DvT8pi7xdMRvAtn2Dz6V4u8JQ7gvIzoxTyTqNe85AFmPNroFLsuphq7oTMzPY7rILwaXog7+cAEPWG+vztPOOY8eHWBvCh9jzyIIzI8zrb4u9i6hzxB43Q5XsNBPL+qBrx0b8u7gzARvLYSzDvw/Re7w6UEvH0HBrzTfue6aiAQPIcrDz1ZXG+8gsQ8PPvukbv7T668LjLpPEAhvLyovdo7LTrGvGpLQrz567a80LnTu6qKyzvX7Za8gWMgvO6RQ7sJ0FG8VWwpPJAZLjztz4o8/+mPvDEKkryxSt07t0i2u3qY1jtTCDI8IXR+u3SafbyReso8vhMAvRy3R7xeJF65v6oGOnqYVjwpano7JeOtPMJkYjw5Yaq8oV5lPGBS6zvEMVO85ZhsPE52rTxOrBe9xZ0nPOY6K7vEBiE9Qe4svE84ZjzIYru7LKM/vemeojwM/l47J0clPOpgWzwsBNw89FmyvBSLYTtY0KA8anb0vON1l7k4AA491L8JvJsKqLw7ZIU8KRQWO5OzDz0o0/O6JxG7Ok8NNDzc4Le8w6WEvFFm87shHpo7K21VPC7chLySR7s7zfS/vDgrQDyYRZS81rcsPaa6/7pt5aM8M2PRO5JHu7wcgd27DtYHvBP02jzbSbG8k6jXvGe8GLy519+7CA6ZvB5OTrqNf0y85AwePKXNlLtFFF08JzxtOwNxXLyZB826JRkYvMRnvbzMiOu8pzEMOqlU4TzBA8a8/ea0PMP7aDz0LoC81lYQvHJ3KDwHdxK8hMeXvJpoaTzCmsw7hr86vOv3YbyITuS5+FQwPM5glLyvJ4i8eqOOvHhqybvnm8e7pfjGPC89ITtZXG+7JttQPQTdsLuy7Js8RYiOPP6obbydLf08Ged7PBv1jjyEkS28oMfeupGFgrrkDJ68WsjDux6EODx9B4a72VGOPEh41DwbvyQ8UnGrPILEPLyNtbY7XsPBvALaVTwy93y8+3rgOmVYobuUFCy6cBOxvJmmsDseWQa79rJxPPGUHjpanZE6ZiWSO5QUrLsFSQU8y/FkPHF/BT0gskW8uLSKvOJq3zumZBs8iO3HPA7WhzwEfJS8VZfbu5OzD7wkghE8NPrXPHnWnTzZRlY8BXS3u0e2m7pGq2O8t6nSPEh4VLwvnr27PIfaO6jIkjxWLuK8JzztPKlUYTx308I7I7Wgu7uvCDzYr888dEQZvcQ8CzpRO0G7ZPeEvLCIJDyxSt28AU6HvPSEZLseTs484t4QPeIJwzhmUMQ81resOg/D8rvOwbA8+IoavACBFrxg/AY8w/vouyjT87xew8G8i1G/uf0cnzxljgu8rruzO7uk0Lvh09g7cX8FO0vcyzqFKLS7Wp2ROxy3R73IN4k8/+mPu00VEbqaPTe8N17PvH81EzvY5bm8zR9yOsplFjzTKAM8RPGHOyF0fjtY0KC7ZMGau1M+nDweWYa84DxSPKEIgTy5rK053aJwOxu/JDw0BRC6dp1YvGBSazzOtvi8Xy+Wu3Zyprt300K8ZYNTOypKALyTCXS8xGe9u0GNELtUdAY8iMIVPHJs8Lwct0c9P1+DvEarY7uITmQ80/IYvauCbrt8/M098/gVPEiDjLwU/5I7dJp9OtivzzvhR4q8WWcnvYD3S7wTaAy8dESZO/i1zDs0BRC7Qk/JPMZqmLotm2K6Cga8uupg2zmantO84BGgPHR6gzzGlUo8oQgBO7w71zzP9xo7cwP3Ocy+1TkM0yy86tSMu8fLNLzYuge7+3pgvEarYzurgm67yi8sPLN46jzUiR+9zfQ/PD4e4bvbdGO8GFstPCJ/Njy9ccG8bkbAuyVESjyR22a8ql8ZvJF6SjxbX0q8knLtvG2EBz2swxA71ax0vHGqt7z5TNO7thLMPFKnlTvbdGM8ALeAvCzZKbwAgRa8k7OPvPpXi7yUoPo6aRVYvAqlH70Z5/u7lYAAPAPlDb0y1wI8YlXGvC2bYrw5YSq9fpPUOzXHyDwYUHU7lasyPD2SkrxfkLI8lHXIPGMqFDwXxKa8EZsbPbQaqTriP628B0GoO74zejxufCo8Swd+vLuk0DwgUSk8M26JPDYoZTzAQY275W26u1rz9TyVgAA8fdEbvNqyKrti9Ck8beUjPOSrAb3qYNu8FZaZvOA8Ujyca0S86Gg4PIwTeDwGC768IN13PFaikzw0+le8S9zLPLFK3bur9h+8eQwIPVL9eTwD5Q09auqlvNZD+7zuW9k7BUkFvYLv7jxuG448R+HNu6ZkmzwDRio8SnsvvFuK/LujK9a8uwXtuwDXejzsOIS7DWqzvOA80rxScau8U2lOPLY9fjtp3228972pvNt047yDMJE7AUPPvOJq37wzbgm8eHUBvURSJLtGSsc6cQvUvER9VjwyAjW8rYVJPGG+v7wzOJ88B6JEu9t0Y7yWQjm7TUDDuzYoZTzeOXc8TqwXPL1xQTrUvwk9yMPXvAPlDbzuMKe7FswDvCtt1bslDuC8RYiOPAwJFz1nseA8q4JuPNN+Z7pRZvO8Gl4IO69SOjor4Qa74UeKvPZcjbzk1jM8W5U0u56Z0TuhXmW7ryeIPKuC7rsf5dQ8ZPeEu5ZCOTs2KOU7xZ0nPf59u7u5dsO4gWMgO1TVojxxC9S80ygDuzgrwLvHLFE8ewQrvKuC7jvCZGI8JEwnvJnR4rvpPQa8BAjjPL1GjzvbdGO79SYjPKzuwrs0BRC8aw17u5QUrLywvo68gQIEPTnteLxRZvO8owCkPLVQE70xNUS8um5mu8wyB7w8+ws9aFOfOhSLYTw+HmE8PPsLu6L167uUFKw8TqwXPN4597sFn+k8tbGvO5BE4LxHQmq723+bO+HT2DtATG48a4EsvPPCqzqYRRQ9fdEbPEp7L71blTQ89/OTvEfsBT15AdC6/xRCu4b1pLxjF3+8M24Jvaf7oTwZ8jO8tab3PLODojznxnk8EWWxOzvFobsfGz+8ANf6u5HbZjzVICY9iVmcvKCcLDxoHbU7dzRfO4ob1bvKZRY7O2SFu9cYyTwJRIM8AKzIOyc8bbwGNnC7rVqXPPiKmjvfpcs7jX9MvG+ylDx7BCu7SNnwPANx3Ltp3228a7eWvMQ8i7wZ5/u8KNPzvFSfuLsAgZa736XLvEiDDL17kPm7Czymu9Jbkrs0BRA7HiOcvGZQRDxbinw84LCDvFDP7DtDWgG77SVvvKuCbrwY+hA9X5CyPCZ6tLuBAoQ7B6JEvAVJBbzJzg+8IFGpOpBEYDzNH/K7evnyu2/dxjvHAZ87E2iMPH3RG7yOFlO8I+sKPbGAx7do8gK8yVreO6FeZbyb/288s67UOoTySTzz7V08oMfevNN+5zlpFVi66T2GO0oaE7y2PX68mj23O37JvrxkwRq8FGAvO+pgWzvGapi8UqcVPPi1TDxA9om671P8O862eLwNy087EM4qvD2SkrtRO8G823TjvFj7UrtbNBg9ddufPPIrJbxqdvS8hPJJPHc037wgskW88DMCvIFY6DuBjtI7EtEFPPAzgrqC7+48GCVDPEjZcDxDWgG8anb0u6pfmTuJWZy8A+UNPP3mtLyVq7K8YvSpvDeUOTsg3Xe8CtsJvL4+sjzHoIK7X7vku1WX27wmpea6P7XnOgF5OTxyQT48DgG6vGGTjbwso787xyxRO7Wm9znYhJ07hpQIPT/An7x8mzE8ShqTvMvx5LvkN9A7MTXEvGG+vzyhCIG8W2qCO38q2zwseA08Zu8nvNLn4LsrbdU7DizsO/27gjupVOE7RH3WvJ5un7yaaGm66jUpvDLXAjvlzta7jB4wvfywSrt/NZO8s4MiPEGNkDwC2tW8AU6Hu9QVbrzRxAs8uwVtPO8oyrurV7w7+leLvG8+YzwIDhk8zIhrvGWOC72jAKQ8T+IBvGDxzjtfZQA9um5mPkG4QrwuMum8eqMOPRa5bjytJK08waKpPOgHHDz7GcQ8+0+uPIGOUjyBjlK8gsQ8vCStQzviCUM8uhgCPICWL72NtTa8K0Ijui+ePby4QFk7WVxvvHuQeTolDmC8HRhkPDWR3rsHd5K8DZVlO1KnFTzkN9C72t3cvDE1RLuoyBK8vt2VOy/Jb7q0D/G77pHDPI/jw7ub1D08Qk9JPFjFaLu7r4g7pGFAPILv7ru1UJM8ShqTPCPriryGlIi8pGHAO0pFxTzFnae8XsPBuyUO4DvuZhE9He0xu3MOr7tmJRI8C51CPOIJQ7xOoV+8Vs1FO3igszzFKXa8YMacPNMdy7wNP4E8zrb4vMyI67sehLi65UKIvNl8wLuBjlK7gMHhOk1AwzvL8eS8xSl2vGJVRjxZXG87BT5NOzXHyDwHzXa8Bgs+PMubgLz5TNO8wGy/vFz20LxZZ6c6+eu2PDQwwrwlDuC7XsNBvOQBZrxUANU6wjmwOwYLvjzk1jM7YyqUOg/DcjxLB3680oZEPEiuvrzKkEi8O483PNHECzxLB3686Z6iOn9gRbu0D3E7vt0VvFbNxbr1UVW74j+tvO/HrTutJK245DdQvIVenjtCT8k7GPqQutNTtTyRhYK6x8u0PCSCkbqqlQM83aLwu+bZjjwn5gi8/RyfuwtykDuP40M7tLkMveCwAzxzA/e7ng0DPUxIILwRZbG8pfjGPNK8rjzTfme8caq3vCFJTDv77hE7evnyuw/DcrtAglg7XQGJuwY28LxYxWg8X1rIu3sEK7zz+JU7OMojvKSXKry9cUG8FrluvAaqIT1oHTU8/bsCvcsnT7xyd6i7kU+YPER91rzQLQU83jl3PLVQE7xnseA5IN33urEfK764tIo8YyqUO3sEK7xYb4Q8BtVTu4e3XTxAVyY79/OTvJ44NTwy14I8B3cSu5euDbwhdH68CtuJvPMjyLyqwDW8SXB3u2eGrjwtm+I8M2NRPfAzAr38hZg8VNUivLS5jDtdAYm8fzUTu/27gjx4dYG8UM/suqFe5bwr4Qa8wc3bPJGFgjy3fiA9pmQbPILvbjvsjui8ewSru/nAhDyFXh49anZ0O/XFBj31xYa7Rxe4u7uviDwM/t47UwiyPKcxDDyh/Ui83Xe+PBa5brxCT8m6Xy+WOgYLvjzRUNo8bRDWPL4z+juDhvU7ZMEauuVCiLu519+74mrfPB6v6rvWVhA8EfF/PI2KhDvLJ888yVrevFkxvTyi9eu7PZKSO42KBLwNy0+8uUsRPN2i8DsU/xK9VqKTPCsMubvyVte8MTXEvC7RzDyrgu688ozBPMSS7zsbIEG7cHTNO+QMnjq6DUq8UnErvPBeNDwgUam7mdFiPMJkYrzlmOw75AFmul4k3jugnKw8kERgOme8GLw3aYc8W2qCvAR8lLx+aCI8mhKFPEAhPDz2XI08VwOwPFrzdblEfda8p1y+uzNuCT3HLFE8AXm5PCJ/trsWWNI4+oK9Owd3krzgsAM9ZPcEPCalZj2R2+a74t4Qu3B0Tbw9XCg7cEmbu0nkqL2Ht128IlQEPCRMJzurVzy8qPNEPWuBLDkfuqI801M1vLhAWbt6+fI6Z7wYvD/r0bwfuiI6YelxPF2N17wQzqo7mDrcvGjyAryWFwc84Nu1OytCo7s1Zqy8yMNXuv59O7sNy087jVSavLbnGToFn2k8aEhnvK2Fybt6o468nJZ2Ot6tqLsVwUu8WQYLvNLn4LwNarM8KkoAPHMOr7z0hGQ8RRRdOkdCajz1xQa9Yxf/u6uCbjzhRwq9taZ3PACBFruaPTe9Pb1EvP0cH71emA+9jB4wOp44NTudoa489RtrOpg63DzdFiK9Mvd8vFmSWTy1UBM7+08uvNAtBTxs7YA6AOKyO8HNW7yR22Y76/fhOwYLvrxI2XC7hV4ePZOzj7xMfoo8iE7kvLNNuDrShsS83RaivJUMTzwhdP67FP+SvAtn2LyNioS7bz5jvEUUXTzDpYQ8w9A2O/8/dDvsYza8QEzuvEh41Drial88uhiCPDacFrx4oDM8owAkOwhkfTzlmOw6Q+bPPKEIATygZkK8bhuOu0Txh70djJU8GFD1OnkBULyEHfw8yJglvMJkYjyG9aS8g4Z1OvS6zjo8+wu88islPHHVaTx4dYE7Vi5ivJ3XmLuQROA8YMYcPBfv2DzNH3I7ymWWvLCIpLxOrBe7SXB3PEdCars4VnI6mj23uzKhmDppiQm8gWMgvON1l7wcgd28edadPB9G8TxTCDK8xyxRvNl8QDzm2Q49s024vKDH3jyrLIq8ug1KvMovLD2hCAE8M26JO7Lh47lAVya8qL3aOi7cBD2n+yG8fpNUPHU8vDyOIYu8o5+HvETxB70QWvm6s3hqPKpfGTzgsAM701M1vSfmCD1ATG46g1vDO5xAkrsxa647UtJHPOgyzrxjKhQ8y8ayOq8nCL3NKqq8Lge3uwKvozqII7I8nS39PJYXBzyRsLQ72XzAO8HNW7yaPTc9WNCgPHRvSzx5AdC8y5uAu5hFlDxlWCE8K21VvMhiuzsWue67maawOix4jbxjF387v6qGvB6vajtnvBi6chaMOyFJzDvZRlY7SHjUPGGIVT1BjRC8l6PVOtoTR7zEPAs868yvvANx3DmwiCQ7MNSnvEhNojmfMNi668yvOwwJlzyjK9Y8238bPPywSrxZBgu8YelxPGMX/7z7emC8LtyEPN0WorxPbtC7WQaLPOFHCr2xSl28IuDSPGogELtUnzi83LWFPMlaXjxanRE9R0Jqu4+Cp7wU/5K8Rh8VO/ceRjxemA+8j+PDPGe8GLzAQY09xdORvCqrHLpIgww8EASVPF+75DxN3yY9+IoavOXO1rwlGRg5P7XnO8QGITxfkLI8A3FcvHZyprzXI4G72hPHvE6h3zogssW8wc3bO1qdET27pNA8Wp0RPR6v6rvsjmi8cwP3u8nOj7lH7IU7CdBRvPJhD7ycQBI8OWGqu4hO5LwJb7W8JHdZPPPt3bvcQVS82RukO667szvjdZc8AUPPuwKvI7xN3ya8tBqpvM30vzzXGEm8FGCvvJfZP7zgsAO9\"\n",
      "    }\n",
      "  ],\n",
      "  \"model\": \"text-embedding-ada-002-v2\",\n",
      "  \"usage\": {\n",
      "    \"prompt_tokens\": 34,\n",
      "    \"total_tokens\": 34\n",
      "  }\n",
      "}\n",
      "\n"
     ]
    }
   ],
   "source": [
    "embeddings = OpenAIEmbeddings()\n",
    "vectorstore = Chroma.from_texts(to_vectorize, embeddings, metadatas=examples)"
   ]
  },
  {
   "cell_type": "code",
   "execution_count": 110,
   "metadata": {},
   "outputs": [
    {
     "name": "stdout",
     "output_type": "stream",
     "text": [
      "{\n",
      "  \"object\": \"list\",\n",
      "  \"data\": [\n",
      "    {\n",
      "      \"object\": \"embedding\",\n",
      "      \"index\": 0,\n",
      "      \"embedding\": \"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\"\n",
      "    }\n",
      "  ],\n",
      "  \"model\": \"text-embedding-ada-002-v2\",\n",
      "  \"usage\": {\n",
      "    \"prompt_tokens\": 3,\n",
      "    \"total_tokens\": 3\n",
      "  }\n",
      "}\n",
      "\n"
     ]
    },
    {
     "data": {
      "text/plain": [
       "[{'input': '2+2', 'output': '4'}, {'input': '2+4', 'output': '6'}]"
      ]
     },
     "execution_count": 110,
     "metadata": {},
     "output_type": "execute_result"
    }
   ],
   "source": [
    "example_selector = SemanticSimilarityExampleSelector(\n",
    "  vectorstore=vectorstore,\n",
    "  k=2\n",
    ")\n",
    "example_selector.select_examples({\"input\": \"2+2\"})"
   ]
  },
  {
   "cell_type": "markdown",
   "metadata": {},
   "source": [
    "We will create the few shot prompt template using the example selector and example prompt:"
   ]
  },
  {
   "cell_type": "code",
   "execution_count": 113,
   "metadata": {},
   "outputs": [
    {
     "name": "stdout",
     "output_type": "stream",
     "text": [
      "{\n",
      "  \"object\": \"list\",\n",
      "  \"data\": [\n",
      "    {\n",
      "      \"object\": \"embedding\",\n",
      "      \"index\": 0,\n",
      "      \"embedding\": \"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\"\n",
      "    }\n",
      "  ],\n",
      "  \"model\": \"text-embedding-ada-002-v2\",\n",
      "  \"usage\": {\n",
      "    \"prompt_tokens\": 3,\n",
      "    \"total_tokens\": 3\n",
      "  }\n",
      "}\n",
      "\n",
      "Human: 2+2\n",
      "AI: 4\n",
      "Human: 2+3\n",
      "AI: 5\n"
     ]
    }
   ],
   "source": [
    "few_shot_prompt = FewShotChatMessagePromptTemplate(\n",
    "  input_variables=[\"input\"],\n",
    "  example_selector=example_selector,\n",
    "  example_prompt=ChatPromptTemplate.from_messages([\n",
    "    (\"human\", \"{input}\"),\n",
    "    (\"ai\", \"{output}\")\n",
    "  ])\n",
    ")\n",
    "\n",
    "print(few_shot_prompt.format(input=\"2+7\"))"
   ]
  },
  {
   "cell_type": "code",
   "execution_count": 114,
   "metadata": {},
   "outputs": [
    {
     "name": "stdout",
     "output_type": "stream",
     "text": [
      "{\n",
      "  \"object\": \"list\",\n",
      "  \"data\": [\n",
      "    {\n",
      "      \"object\": \"embedding\",\n",
      "      \"index\": 0,\n",
      "      \"embedding\": \"gmCbvDnCzzus8308xSOevN1jLb0FDZo8pvbSvLwCDbz1ovq8EVKRvAd6nbq0PIw8SwTyvIi5mDs4VUy8+djTumpCbjxZW1y6XDXjPC0RFzk9nNa7U14xPFJd7zlOzUe8Z8P3ujwwFTr4IXE7E2QEvKp1STzwphG9U7lBPVOoEL2kLr+7hvEEvdUJ7rzCtdi4lzJlu+3Mirk0ILU8A6AWvLUEIDzaiSY85oS+u3kG3Dw9nNa8gha8uxs6dDy6Smi7M8TivKN3XDp2djQ8G4UVO5E1uryLkt27KTeQO0fP2jrDW4q8q+LMOuoUZrwy/ZC74fPUu9dlQLwTZIS87cyKPE1hBryEgz+8+Mbgu4U6ojzJDta5qnXJO0cZujzHkCE9HU2pvCtatLudxBA9+ceivOnyg7wKngO9YscOvPvqxrgoJR09rfQ/vQQMWLuFlbK7VLqDPJh9hryVatG7GinDPFyQc7yaVsu7wDckvDBGrjzH67E8k/3NPPgh8bvIRwQ9Lcc3uy3Htzz0Njm73KzKvBNkhLzDESs7FvSrvInberyVD0G8tE29u0sEcruFhIG7BQ2aPBdPvLrRw6W870q/PE68FjxI0Jy8adasunwZEbxMTxM8TGDEOzlnv7zqXsW8t8yzO9mIZLvgPHI86PHBvFO5QT06wxE8xH1sPF/th7ya6gm8Pp0YvJPsHD3E2Hw8voBBPC+g/Dy2FVG8e2KuPML/t7xtZlS7Vcu0vLI7yryVxWE84xZ5PPJupbypvyi86hTmOt1jrTxdkbU8DS3pPBY+C7149Gi8tKjNPLvwGb2bZ/w82HezPOHiIzwJrnI8/bJau876zzyAX9m77ZNcu90IHbzlzVu8RZuFPNZUD71Mu1S7cve9PBhhLzv6foU75t9OvDJp0rum9lK8F6rMOTL9kLwmXYk8A0WGO/5pPTxK4o85lhADu/N/1rxiIp+8k0ctvBs69DivvFO63a2MPMwhC71ha7w8RZuFPKNmK7oAfDA88chzvA0t6TwOP9w8EVIRPI6lkruk0y6/Z8P3vPMlCLz3tS+9ceVKPN2tDD1tC0Q8wDekua+807v72ZW8EWPCvIQ5YDxQOks8aSAMOmqd/ruCJ+28ss8IPN0InbzMIQu8HfKYPNrThbypCYg8WxOBvGxUYTvtzAo9R8/avMsgyTz/em68KJHeu6BDh7rT1Zi8VXCkOwNFhjtnaOe8D0AePalkmDz+sxy9a+gfPTaNuLvZiOQ8rxfkvBEIsrujwTs7YbWbPHy+gLzrFai6Mw+EPI3/YDxxiro8dtFEvNN6CD27S6q88hOVuq2qYLy0TT271fi8OoK7KzxQ37q7yg8YPCKDAryY6cc6muqJvFw147wZvYG8LRGXvDMPhDxYSiu9XH9CPGvonzz1onq6TAU0O96+PTykLj+6cNSZPEwFNDyToj08NjIoPQgxgLxXOLg7yFfzPOQXO7uIuRi8gF9ZvCr+YTypCYg8RQdHvA/lDb1Xk8g8EQgyvBY+izyFOiI95ikuu44RVLztzIq80WgVPFMDoTysmG24wv83PMyNTLzAN6S8bx03PGQ0krxuDAY8VSZFu9BnUzz7+3c8dy0XveZzDTtzrd48pvbSvNIvZ7xy5gw76gO1vLmUxzudaQA8RZuFvJ/ntDuwvRU8UDpLu5rqCb3Kxbg8f/LVu3Vlg7rtgqu75+CQvLtLqjxXk8i8eavLvGfD97q5lMe7dBriO8DtxDz2WV06FT1JvIJgmzx1wBO8JbfXO6lkGLy1BKA8MOudvERQZLwcO7a7+djTO/jGYLyCgn08RKt0vLxdnbxD5CK8KJFePJVq0TutPh+7YFoLvJXFYbsH5t47LRGXPCk3kLtWgpe7jVrxO1w1Y7wP5Y24+RGCOwjnoDv0R2q8UqfOvNN6iLxmRoW8hZUyvMBI1Tv5fUM7SuKPvNavn7yXjfW8rT4fPJ3EkDyXfES86U0UPGEQLDsfX5y7ExolvNF5Rjq5g5Y7ToNoPEEsfrzjFvm7fjw1PD33ZjvPVqI8XNpSO7/b0bwFaCo8XZG1vNysyjyiwHk8jrbDO5A0+DkDRQY6NXwHPVlbXLz0R2o7Y47gO+KZBj3bm5k7G4UVPHfjt7tXk0g8PNUEvUkrLTyaoKq78rgEPZjpRzzFfi46KNu9vAcwPrzsJtm7WsjfPKuHvDxmV7Y812VAO6Xk3zrqFOY7oEMHvF2RNbw7eTI82uQ2PJ0fIbxWgpe7t8yzPCmSoDyHTBU7cZvrvN8akLshgsA71fg8PMt7WTvcrMq7dy0XPMCjZTxoelq6CZ3BPERQZDw2Mqi6kDR4PAAhoDzhPbS7YbUbO6aKEbyl5N88GAafOjmxHjy7pjq7OVaOO5tXjTqXMmU7/liMPL0TPjy2usC71xthPGkgjDvTeoi754UAPTlWDjxJK606bfqSPBCs3zoGL3w7vAINPN50XjymL4G89EdqO0X2FTsZvQG71lQPPDV8BzxQOks8L6D8O4rcvLtGYlc8cpytOwAhoLtTTQA8Urh/vO2Cq7xuHHU8/OsIPTTFpLxt+pI7gKk4vFOokLznlW+8xzWRPI4Ao7oeFHs8ANfAu0xgRDtOg2i8iiacvDCQjTwzDwQ7j7eFOs+ggTnaiSY8SHUMu7cWk7sWPou8yzF6PBhhL7zKaii8LX3YvG36krxveEe8vm+QvKQdjrsRCDI8lmsTPGkgjDvDthq8hDlgvIYB9Lva0wU9BnlbuwXDOjwXu/27lQ9BvKFUuLyTor08WreuPKQdDjzKaqg8+WwSvFilu7v7oOe8Vt0nPAwcuDxOzUe8l411u8dGwjv9V8o8bmeWuoheCD1bE4E78RJTPOeV7zu2FVE8D+WNPDGhvrpHYxm7ZqEVPAWyiTzN6Nw7rxdkvAsKRTyYjrc83WOtO7gnxLyvvFM8p5yEO1S6gzwW9Ku8WgGOvJORjLykeB48X0iYvJZrEztVyzQ8gha8Ory4LbwfFT08OnhwPBGtoTyHuNa6RKv0vMlYNTz/em48hIO/vHbRxDv+WAw7p/cUvRY+i7yvBjO8Qi3AO1tuEb1KmDC8bFThvK1P0Lxe7EU7B+bevMf8Yjym9tK8rvUBPLtLqrzAgYO8OVaOOc7pnrxGYte81WT+u5DZ57zANyS8GKsOO6uHvDzB7gY7Oy9TO7QD3rsEscc7Ea0hOy9FbLweuWq8H1+cuwP7JrxhEKw8EAfwO7sBy7xyQZ28SHWMuxGtoTwMZpc8ss+IvL1/f7uSkEq8WlyeO2ZXNjyXjXU8/rOcOVjvGruUDv86T4SqPCVteLyRJIm7YFoLvCI5I7wJrvI7QdHtuUAbzTybVw297u5svPlskjwTdbW85oQ+PPSRyTsMwSe8JrgZPcUjnjxnw/e7ogubPESrdLyU/o88e72+vJVZoDyn95S7F7t9Op/Wg7zyyTU85nMNvQB8sLwV4rg6mwxsO2do5zu+yqC8pkCyuUZi17xoH0q7Z2jnuywQ1TwIjJA6Z8N3PC+gfLylP/C45/D/uVoBDroKVCS8UDrLvGQ0Er0UhuY7kMi2vPug5zyCJ2272uQ2PODh4bvqAzW625uZOkX2lbzmhD68O3myvHfShjttC8Q8D0CePML/NzvzJQg8xTTPu4XfEbtiIp88XDVjujIOQruyhSm9zCELPS+gfDxaEr885GGau1x/wjyKJhw8++rGPPZILLwGeVu847toPD1Sd7xbEwE9jO6vvA0tabzo8cG591ofutqaVzza5DY7DtOaO9TniztqnX48AumzPHx0obyGS9M8GoRTPDaeaTsfcM28SeFNu1aCFzzwXDI7fL4APMzXKzwoJZ08aGkpPBdg7TsXYO27RPVTOyk3EL2Dco68RJrDPB2XiLwh3dC7MlihuxkX0Lwlbfi8NGqUvE/eeDyRfxm9nMNOPDsv07y7XNu89kisOY4Ao7xTAyE9SwTyuyiR3jxXOLg8V5NIPHRTkLy+JTG8Gt/jOxirjrxjM1A8orCKPPJupToCn9S6nubyu0xgRLuFhIG8A/umvO2CKzxynK072ppXu5PsnLydaYA7K1q0vBi8PzviTye85AYKvKTTrri5lMe74xb5vNxRujyfjKS84k8nOzmxHjnIV/O79kisvC4jCr2+FIA6l3zEO4zuL7yIuRg9pB0Ou3fShjwFwzo8+CFxvFNNAL0QUU88FT1JuVza0jzmzp28bWbUvNYKsLznhQA9dAmxPNKK97uY2Ja8M8Tiu5/ntLxtZlS76ExSPG3B5Ds2jTi8WABMu0UHR7zeGU684YeTvOHiIzwlbXg8UgJfPN8rQTvV+Dy8B4vOO+tfB7px5Uq87cwKvAbUazzVCe486hTmu1iUirqtT1C8WRH9PK9y9Ly6lQk8D+WNvF/+uLwFHss8hvGEuhMapbzLMXo6adasPDQgNTw2+fm6hd8RvD33ZjyiC5s7/x/eO7IqmbyZRNi7n4wkPWpCbjyq0Fk7ZEXDPH4rhDxTqJA7bcHkO59CxbqATqi6xNh8vLpKaLxM9AI7hIM/uwL65LxhECw8osD5u1eTyLvWrx+8CfjRPEe+qTzjBci7F088vGvoH7uy4Dk8f6h2PGBaC7yFlbK8HxW9O3+o9rxaAQ69PNWEvGPYv7yqGrk8uZTHOxWYWbqDco676xWoO3L3vbvdCB28AHwwOyW31zwHHw09UgJfvLQ8jLyOpRI8c63eO3AvKjv4xuC8NNbVvEDAvDoqSEG8rvWBPFDfOjy9yd68u0sqvBs69DufjCS8RFBkvFwkMjty9z28DBw4PBzgJTymLwE8TihYPC/q2zv4IfE7rJhtvK1PUDyhClk742DYO/dan7puDAa9xH1sPPK4hLwzxGI7SpgwvHDUmTpkjyI8LX3YvBGtoTva04U8Gs6yvOOqtzsyogA9o8E7PHqsDbzqAzU85AaKvIzuL7ys8308QdFtvG8dt7zcYmu8aHpaPPWierzVZH68RQdHPAlTYjqovmY8nGi+PGb8JTyY2Ba9XMmhu6R4HjxynK270GfTO0fPWruAmIc8ePRougDXwLvTQVq7QRyPO3OtXrwK+ZM7/3puPI1acbwaGJI8bcFkPmayxryY6cc7a0MwPeQGCrwoJR08MOudPBN1tTvRDYU8trpAPKhSJTvp8oM8N/o7vHAvKjy3zLM8XuxFvFNNAL0hJ7C8Zg3XvBXiuLvFNM87giftO4CpuDt1GyS8xcgNPXSuoDxSp8682okmvE4XpzmPEha8GyqFvOtwuLvEbDu83GLrO+q5VbyOW7M7Ul3vPIXfEbzjYFi8MqKAPAr5Ezw0xaQ8qL7mOtNBWrxAdt27lhADPPBLAbuKgSy8ITjhuVNeMTxDP7O8YGp6vFyQ8zoFwzo8qL5muzseIjxBHA87TykaO876T7wMd0i7x+uxu1w14zwttga9ZrLGPN8rQbzIohQ9GGGvvF2RtbrwS4E7gATJvAWyCTyHTJW8gygvvESrdDzp8gO947tovEX2FTzDthq8OsORPCKDAj2SkEq8BWiqOw7kSztyQZ28OcJPvGBaC73ZLVQ8bcHkPMn9JLzcYus7uTm3PML/N7ymipG6L0Vsu01hhjzKDxg8FZhZvNMwqTwazjI8Urh/vM9WorydHyE9GGEvO3QJMbsAIaC86l5FO5pWy7xuZxa5CvkTPMNbCrzpTRS7yEeEuxGtITztk1w7Q+QivDXXl7omXYk7l3xEvGpCbjtXk0i8zY4OO85Er7zkFzs8LbaGPJcy5Tlf7Ye8pNOuvHiZWDwr/yM8gE4ovTmxnrv4IfG5j20mPLPxaryXITQ5TKojPKblITsmXQm8Er5Suz1Sd7urhzw8cHkJvL6AwTk81YQ71OeLPFeTSLxjM9A8BzC+urxdnbzu7uy8OLDcvLfMMzyGS1M8U7lBvH6XxTybsh29Ea0hvUSr9LvmKa48ZqGVukJ3n7xoaam8HZcIvNjBkrtSuP+8ud4mPHZ2NL7M16s8yKKUO4MoLzpB0e278EuBPFpcnjz3Wh+7IMtdvDKiALpnswg8yEeEu8/7Eb2ValG8WhK/O1ilOzvi9BY7xcgNPaFl6Txx9nu7JrgZPaGvyLxiIh+8lWrRuwCN4Ts2Q9m7kH7XOzsvUzxrjQ+6l3xEvMeQobw+Uzk8ghY8O2EQrDsPQB48Qz+zu8baAL17Yi68n0JFvAJVdTx/qPY8nXqxO/1XyjsyDsI7Cq80vCFxDz3XZcA7s/HqukmGPbokATe87u5sPHH2+zv4xmA8bPnQO8wyPDxrjY87x+sxvFUmRTzV+Dy8IYJAPOeFADzyExW8eE/5PNdlQLy6lQm8IoOCvLiCVLzjBcg834bRvJr7OjxBHA+7kutavQmdQTyHuNa8yEcEPUX2lTvrupc72Yhku+45jjyGAXS7pHievJsM7DzfGpC8kSSJvAn40TphECw8GoTTu5qxW7vmc426bhx1vB2ouTyt9L+8XH9CvDdEm7tayN88KDZOPB4UezzzJQg84YeTOzp48LuA85c7n9YDPepvdrwTGiU8TGDEO6+807sbKgU9jxKWOzKigDwr/6M8Bx8NvBH3ADtkRUM8dL9ROxrOsrvA3BM8vX9/vF9Zybumm0K8reOOu8dGQj02Mig7Id3QO1oSPz2GAfQ6wf51u5NHrb08iyU6kX+ZPAL6ZD3kF7s7dtHEPCLeEry5g5Y85AaKvBGtIT1TqJC8Mv0QvXk/Crz1ovo7gmAbPEEsfjyjd1y8lP6Pu8sgSbxk2YE8vF0dulS6AzshgsA8n0JFvIBf2Tv/eu68Nvn5vKgZdzwK+RM8x+sxOxrf4zye1UG8AlX1u8aPX7yqGrk7UfGtu5wNLrxDLgK8HfKYPO7ubLxns4i7QAqcPPBLAb0TGqW8E78UvPZIrDu3u4K8bVWjOqi+ZjxnaOe8ofknvVGWHb11ZQO9z1aivM5EL7yQfle8jKTQPIJgGz2n9xS8HfKYPHS/0bmqdck6E2SEvJW0MDxM9II8T954u/WierxUuoM7hvEEPczXq7qjZqs7lQ/Bu3QJMbxs+VA8YscOvZtXDT2VxeG88hMVvNHDpTwazrK8wqQnvLLPCLyKy4s8s5baujKiAD3AN6Q78KaROpcyZbxF9pU8MfxOvIPNnjvju+g8mlbLPP8f3rwWPou8LzS7O8V+rrv9V8q84vSWPC3HNzzoO6G8p/eUvGTZgb3IR4Q8q9EbvFS6g7xHKms7Gt9jvIXfEbtt+pK8kMg2uxSG5jv+Di28U6iQPCZdiby0l5y8qAhGvLwCDTxPKZo8R76pO2N9rzxkj6I8efUqvDwwFTzJs8U7vm8QPFJd77t/8lU82GaCvOlNFDx59Sq8ioGsu8kO1jxnaOe88yUIu7BztjyVD0E7QuPgvHS/0bzwXLI8u/CZPHB5CbwO5Eu79kgsveoUZjzoOyG8IXGPO39N5rsNeIq8DNLYPJ7VQTxmV7a79ZILPMXIjTsZvYE820AJvVNNALyei+K8EAfwu9KKd7u9f/87lP6PvB9wzTyJb7k7Lcc3PcdGQjwZvQG7rJjtu9jBkrwp7bA7OVYOvHV18ryAqTi8H3DNO1DfOrt0CTE9/liMOESrdDso7G6842DYPFhKq7xDLgI9ACGgPCk3kLqWEIO8qBn3uo6lEj2bsh08f01mvEh1jDzT5sm7+6BnPJuyHbzYwRI8bPlQvFQVFLxXk0i6puWhPDR7xbt/Tea8mOlHPGPpcDxvwqa8QAqcOzpogby9bk67BtTrumPpcDsuI4q8oEOHOsaPXzzPoAE9sSnXPE4o2DxQldu74k+nPLPx6rt6rI07mlZLvAlT4rvIV/O8Oy9TOazz/bt/qPY71QluPJqgqru78Jk8e2IuOtIv5zxcySG9ukpoPPLJNbyderE5QuPguwzS2LwA18C8XdsUvPyhKbxUFZQ7vm+QPOsVqDp6rI0933WguwXDOrxPzok8YbWbu/tFVzxFmwW8xNh8OwfmXrzrcDi9WRH9PCiR3ry+FAA9sGIFPXfSBjz72RW8+9kVvNxi6zydHyG8yyDJu8kOVjyoCEa8NkPZPGG1mzyiCxu95nONu+QGCj3XwFC6gATJO/tF17xSXW+8W24RPO0nG72aRRq8TGDEPH+odry8Ao27CZ3BuwP7Jjy7XNs7qL7muwB8sDzju+i8iRQpvI+3hTwBMxM8s/FqO9rTBTwP5Q29\"\n",
      "    }\n",
      "  ],\n",
      "  \"model\": \"text-embedding-ada-002-v2\",\n",
      "  \"usage\": {\n",
      "    \"prompt_tokens\": 3,\n",
      "    \"total_tokens\": 3\n",
      "  }\n",
      "}\n",
      "\n",
      "System: You are a wizard of math.\n",
      "Human: 2+3\n",
      "AI: 5\n",
      "Human: 2+2\n",
      "AI: 4\n",
      "Human: 5+2\n"
     ]
    }
   ],
   "source": [
    "final_prompt = ChatPromptTemplate.from_messages([\n",
    "  (\"system\", \"You are a wizard of math.\"),\n",
    "  few_shot_prompt,\n",
    "  (\"human\", \"{input}\")\n",
    "])\n",
    "print(final_prompt.format(input=\"5+2\"))"
   ]
  },
  {
   "cell_type": "markdown",
   "metadata": {},
   "source": [
    "Finally, we will use the prompt with a `Chat` model:"
   ]
  },
  {
   "cell_type": "code",
   "execution_count": 117,
   "metadata": {},
   "outputs": [
    {
     "name": "stdout",
     "output_type": "stream",
     "text": [
      "{\n",
      "  \"object\": \"list\",\n",
      "  \"data\": [\n",
      "    {\n",
      "      \"object\": \"embedding\",\n",
      "      \"index\": 0,\n",
      "      \"embedding\": \"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\"\n",
      "    }\n",
      "  ],\n",
      "  \"model\": \"text-embedding-ada-002-v2\",\n",
      "  \"usage\": {\n",
      "    \"prompt_tokens\": 3,\n",
      "    \"total_tokens\": 3\n",
      "  }\n",
      "}\n",
      "\n",
      "{\n",
      "  \"id\": \"chatcmpl-8UiMrpRPJQEwngXnTaVtkPDYTSOJN\",\n",
      "  \"object\": \"chat.completion\",\n",
      "  \"created\": 1702331081,\n",
      "  \"model\": \"gpt-3.5-turbo-0613\",\n",
      "  \"choices\": [\n",
      "    {\n",
      "      \"index\": 0,\n",
      "      \"message\": {\n",
      "        \"role\": \"assistant\",\n",
      "        \"content\": \"7\"\n",
      "      },\n",
      "      \"finish_reason\": \"stop\"\n",
      "    }\n",
      "  ],\n",
      "  \"usage\": {\n",
      "    \"prompt_tokens\": 45,\n",
      "    \"completion_tokens\": 1,\n",
      "    \"total_tokens\": 46\n",
      "  },\n",
      "  \"system_fingerprint\": null\n",
      "}\n",
      "\n"
     ]
    },
    {
     "data": {
      "text/plain": [
       "AIMessage(content='7')"
      ]
     },
     "execution_count": 117,
     "metadata": {},
     "output_type": "execute_result"
    }
   ],
   "source": [
    "llm = ChatOpenAI()\n",
    "chain = final_prompt | llm\n",
    "chain.invoke({\"input\": \"5+2\"})"
   ]
  },
  {
   "cell_type": "markdown",
   "metadata": {},
   "source": [
    "## Output Parsers\n",
    "\n",
    "Output parsers convert the raw output from the language model into a format that you want to use. Most models will return a `string` and the default and most basic parser is the `StrOutputParser`. All parsers are based on the `BaseOutputParser` interface and have a `parse()` function. Here is a simple example:"
   ]
  },
  {
   "cell_type": "code",
   "execution_count": 120,
   "metadata": {},
   "outputs": [
    {
     "data": {
      "text/plain": [
       "'my output'"
      ]
     },
     "execution_count": 120,
     "metadata": {},
     "output_type": "execute_result"
    }
   ],
   "source": [
    "StrOutputParser().parse(\"my output\")"
   ]
  },
  {
   "cell_type": "markdown",
   "metadata": {},
   "source": [
    "If you want to have output that is structured, like with Json, then you need to define the data structure with `pydantic`:"
   ]
  },
  {
   "cell_type": "code",
   "execution_count": 125,
   "metadata": {},
   "outputs": [],
   "source": [
    "class Joke(BaseModel):\n",
    "  setup: str = Field(description=\"set up for the joke\")\n",
    "  punchline: str = Field(description=\"punchline for the joke\")"
   ]
  },
  {
   "cell_type": "code",
   "execution_count": 126,
   "metadata": {},
   "outputs": [
    {
     "data": {
      "text/plain": [
       "Joke(setup='What do you call a bear with no teeth?', punchline='A gummy bear!')"
      ]
     },
     "execution_count": 126,
     "metadata": {},
     "output_type": "execute_result"
    }
   ],
   "source": [
    "parser = PydanticOutputParser(pydantic_object=Joke)\n",
    "parser.parse('{\"setup\": \"What do you call a bear with no teeth?\", \"punchline\": \"A gummy bear!\"}')"
   ]
  },
  {
   "cell_type": "markdown",
   "metadata": {},
   "source": [
    "Let's see it all together in a chain:"
   ]
  },
  {
   "cell_type": "code",
   "execution_count": 127,
   "metadata": {},
   "outputs": [],
   "source": [
    "llm = ChatOpenAI()\n",
    "prompt = ChatPromptTemplate.from_messages([\n",
    "  (\"system\", \"You create jokes with a <setup> and a <punchline> about the topic provided by the user. Return the joke as JSON with a <setup> and <punchline> property.\"),\n",
    "  (\"human\", \"{input}\")\n",
    "])\n",
    "chain = prompt | llm | parser"
   ]
  },
  {
   "cell_type": "code",
   "execution_count": 128,
   "metadata": {},
   "outputs": [
    {
     "name": "stdout",
     "output_type": "stream",
     "text": [
      "{\n",
      "  \"id\": \"chatcmpl-8UihHKSmwSubz3TnRLLevWnmauZWz\",\n",
      "  \"object\": \"chat.completion\",\n",
      "  \"created\": 1702332347,\n",
      "  \"model\": \"gpt-3.5-turbo-0613\",\n",
      "  \"choices\": [\n",
      "    {\n",
      "      \"index\": 0,\n",
      "      \"message\": {\n",
      "        \"role\": \"assistant\",\n",
      "        \"content\": \"{\\n  \\\"setup\\\": \\\"Why did the dentist take up gardening?\\\",\\n  \\\"punchline\\\": \\\"Because they wanted to flossom their skills!\\\"\\n}\"\n",
      "      },\n",
      "      \"finish_reason\": \"stop\"\n",
      "    }\n",
      "  ],\n",
      "  \"usage\": {\n",
      "    \"prompt_tokens\": 52,\n",
      "    \"completion_tokens\": 32,\n",
      "    \"total_tokens\": 84\n",
      "  },\n",
      "  \"system_fingerprint\": null\n",
      "}\n",
      "\n"
     ]
    },
    {
     "data": {
      "text/plain": [
       "Joke(setup='Why did the dentist take up gardening?', punchline='Because they wanted to flossom their skills!')"
      ]
     },
     "execution_count": 128,
     "metadata": {},
     "output_type": "execute_result"
    }
   ],
   "source": [
    "chain.invoke({\"input\": \"Tell me a joke about dentists.\"})"
   ]
  },
  {
   "cell_type": "markdown",
   "metadata": {},
   "source": [
    "There are a number of built-in parsers like the two we have already seen. Here are few more:"
   ]
  },
  {
   "cell_type": "code",
   "execution_count": 135,
   "metadata": {},
   "outputs": [
    {
     "data": {
      "text/plain": [
       "['1', '2', '3', '4', '5']"
      ]
     },
     "execution_count": 135,
     "metadata": {},
     "output_type": "execute_result"
    }
   ],
   "source": [
    "CommaSeparatedListOutputParser().parse(\"1, 2, 3, 4, 5\") # the space between is required"
   ]
  },
  {
   "cell_type": "code",
   "execution_count": 139,
   "metadata": {},
   "outputs": [
    {
     "data": {
      "text/plain": [
       "datetime.datetime(2008, 1, 3, 18, 15, 5)"
      ]
     },
     "execution_count": 139,
     "metadata": {},
     "output_type": "execute_result"
    }
   ],
   "source": [
    "DatetimeOutputParser().parse(\"2008-01-03T18:15:05.000000Z\") # ISO 8601 format"
   ]
  },
  {
   "cell_type": "code",
   "execution_count": 143,
   "metadata": {},
   "outputs": [
    {
     "data": {
      "text/plain": [
       "<Colors.RED: 'red'>"
      ]
     },
     "execution_count": 143,
     "metadata": {},
     "output_type": "execute_result"
    }
   ],
   "source": [
    "class Colors(Enum):\n",
    "  RED = \"red\"\n",
    "  BLUE = \"blue\"\n",
    "  GREEN = \"green\"\n",
    "\n",
    "EnumOutputParser(enum=Colors).parse(\"red\")"
   ]
  },
  {
   "cell_type": "markdown",
   "metadata": {},
   "source": [
    "Now let's look at how easy it is to create your own output parser:"
   ]
  },
  {
   "cell_type": "code",
   "execution_count": 144,
   "metadata": {},
   "outputs": [
    {
     "data": {
      "text/plain": [
       "['1', '2', '3', '4', '5']"
      ]
     },
     "execution_count": 144,
     "metadata": {},
     "output_type": "execute_result"
    }
   ],
   "source": [
    "class BetterCommaSeperatedListOutputParser(BaseOutputParser):\n",
    "  def parse(self, text: str) -> list:\n",
    "    return text.strip().split(\",\")\n",
    "\n",
    "BetterCommaSeperatedListOutputParser().parse(\"1,2,3,4,5\")"
   ]
  }
 ],
 "metadata": {
  "kernelspec": {
   "display_name": "langchain-agent",
   "language": "python",
   "name": "python3"
  },
  "language_info": {
   "codemirror_mode": {
    "name": "ipython",
    "version": 3
   },
   "file_extension": ".py",
   "mimetype": "text/x-python",
   "name": "python",
   "nbconvert_exporter": "python",
   "pygments_lexer": "ipython3",
   "version": "3.11.5"
  }
 },
 "nbformat": 4,
 "nbformat_minor": 2
}
